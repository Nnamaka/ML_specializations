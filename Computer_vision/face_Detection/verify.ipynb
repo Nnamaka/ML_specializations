{
 "cells": [
  {
   "cell_type": "code",
   "execution_count": null,
   "metadata": {},
   "outputs": [],
   "source": [
    "os.makedirs(os.path.join('application_data', 'verification_images'))\n",
    "\n",
    "os.makedirs(os.path.join('application_data', 'input_image'))"
   ]
  }
 ],
 "metadata": {
  "language_info": {
   "name": "python"
  },
  "orig_nbformat": 4
 },
 "nbformat": 4,
 "nbformat_minor": 2
}
