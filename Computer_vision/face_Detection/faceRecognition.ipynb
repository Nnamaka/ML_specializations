{
  "nbformat": 4,
  "nbformat_minor": 0,
  "metadata": {
    "colab": {
      "provenance": [],
      "collapsed_sections": [],
      "authorship_tag": "ABX9TyMHjWZWxwSyqXh/MS3ic5l9",
      "include_colab_link": true
    },
    "kernelspec": {
      "name": "python3",
      "display_name": "Python 3"
    },
    "language_info": {
      "name": "python"
    }
  },
  "cells": [
    {
      "cell_type": "markdown",
      "metadata": {
        "id": "view-in-github",
        "colab_type": "text"
      },
      "source": [
        "<a href=\"https://colab.research.google.com/github/Nnamaka/ML_specializations/blob/main/Computer_vision/face_Detection/faceRecognition.ipynb\" target=\"_parent\"><img src=\"https://colab.research.google.com/assets/colab-badge.svg\" alt=\"Open In Colab\"/></a>"
      ]
    },
    {
      "cell_type": "code",
      "source": [],
      "metadata": {
        "id": "MNJNem1DpR9V"
      },
      "execution_count": null,
      "outputs": []
    },
    {
      "cell_type": "code",
      "source": [
        "!mkdir dataset && tar zxvf dataimages.tgz -C dataset"
      ],
      "metadata": {
        "id": "J1CR2hlZrB_V"
      },
      "execution_count": null,
      "outputs": []
    },
    {
      "cell_type": "code",
      "source": [
        "!rm -r dataset"
      ],
      "metadata": {
        "id": "ZIIr71-Kq4Se"
      },
      "execution_count": null,
      "outputs": []
    },
    {
      "cell_type": "code",
      "source": [
        "!rm dataimages.tgz"
      ],
      "metadata": {
        "id": "Ve2YdgfOrirI"
      },
      "execution_count": null,
      "outputs": []
    },
    {
      "cell_type": "code",
      "source": [
        "!wget -O save.jpg https://image.shutterstock.com/image-photo/smart-robotic-agriculture-futuristic-concept-260nw-1314154001.jpg"
      ],
      "metadata": {
        "id": "SvCJ3ZffrrDQ"
      },
      "execution_count": null,
      "outputs": []
    },
    {
      "cell_type": "markdown",
      "source": [
        "#Install Dependencies"
      ],
      "metadata": {
        "id": "_xb9XHGpPQ9E"
      }
    },
    {
      "cell_type": "code",
      "source": [
        "!pip install tensorflow==2.4.1 tensorflow-gpu==2.4.1 opencv-python matplotlib\n",
        "!pip install wget"
      ],
      "metadata": {
        "id": "Y9UMtA96PW24"
      },
      "execution_count": null,
      "outputs": []
    },
    {
      "cell_type": "markdown",
      "source": [
        "##Import Dependencies"
      ],
      "metadata": {
        "id": "XQlJCBB_PkQD"
      }
    },
    {
      "cell_type": "code",
      "source": [
        "import cv2\n",
        "import os\n",
        "import random\n",
        "import numpy as np\n",
        "from matplotlib import pyplot as plt"
      ],
      "metadata": {
        "id": "GCaHsD09PuKX"
      },
      "execution_count": null,
      "outputs": []
    },
    {
      "cell_type": "code",
      "source": [
        "# Import tensorflow dependencies - Functional API\n",
        "from tensorflow.keras.models import Model\n",
        "from tensorflow.keras.layers import Layer, Conv2D, Dense, MaxPooling2D, Input, Flatten\n",
        "import tensorflow as tf"
      ],
      "metadata": {
        "id": "7SwEiaa8QDZW"
      },
      "execution_count": null,
      "outputs": []
    },
    {
      "cell_type": "markdown",
      "source": [
        "##Create Folder Structures\n"
      ],
      "metadata": {
        "id": "5Ht1qzKOVeN6"
      }
    },
    {
      "cell_type": "code",
      "source": [
        "POS_PATH = os.path.join('data', 'positive')\n",
        "NEG_PATH = os.path.join('data', 'negative')\n",
        "ANC_PATH = os.path.join('data', 'anchor')"
      ],
      "metadata": {
        "id": "KDigIfCAFAl8"
      },
      "execution_count": null,
      "outputs": []
    },
    {
      "cell_type": "code",
      "source": [
        "# make the directories\n",
        "os.makedirs(POS_PATH)\n",
        "os.makedirs(NEG_PATH)\n",
        "os.makedirs(ANC_PATH)"
      ],
      "metadata": {
        "id": "mdmQcQdiFW9Y"
      },
      "execution_count": null,
      "outputs": []
    },
    {
      "cell_type": "markdown",
      "source": [
        "#Collect Positive and Anchors\n",
        "My positive images were stored in my Google Drive."
      ],
      "metadata": {
        "id": "ZB0WKwLPFpGv"
      }
    },
    {
      "cell_type": "code",
      "source": [
        "from google.colab import drive\n",
        "drive.mount('/content/drive/')"
      ],
      "metadata": {
        "colab": {
          "base_uri": "https://localhost:8080/"
        },
        "id": "u1usYtu6R7Pi",
        "outputId": "05fed513-b2ac-48be-a9f8-96e3fb8f1513"
      },
      "execution_count": null,
      "outputs": [
        {
          "output_type": "stream",
          "name": "stdout",
          "text": [
            "Mounted at /content/drive/\n"
          ]
        }
      ]
    },
    {
      "cell_type": "code",
      "source": [
        "!cp \"/content/drive/MyDrive/TFOD images/face.tar.gz\" /content"
      ],
      "metadata": {
        "id": "Bu5ibPKfpDeS"
      },
      "execution_count": null,
      "outputs": []
    },
    {
      "cell_type": "markdown",
      "source": [
        "uncompressed data file of positive image"
      ],
      "metadata": {
        "id": "kLov-E8FC9tU"
      }
    },
    {
      "cell_type": "code",
      "source": [
        "!tar -xzf face.tar.gz"
      ],
      "metadata": {
        "id": "2ymx8putOjKd"
      },
      "execution_count": null,
      "outputs": []
    },
    {
      "cell_type": "markdown",
      "source": [
        "resize and store images as positive images"
      ],
      "metadata": {
        "id": "0Xfyod7byUqu"
      }
    },
    {
      "cell_type": "code",
      "source": [
        "width = 250\n",
        "height = 250\n",
        "dim = (width, height)\n",
        "\n",
        "# TODO: get the proper directory to search for images\n",
        "for filename in os.listdir(\"\"):\n",
        "  if filename.endswith('.jpg'):\n",
        "    img = cv2.imread(filename, cv2.IMREAD_UNCHANGED)\n",
        "    new_img = cv2.resize(img, dim, interpolation = cv2.INTER_AREA)\n",
        "    \n",
        "    # TODO: make names unique with uuid()\n",
        "    cv2.imwrite(\"...\", new_img)"
      ],
      "metadata": {
        "id": "dqSn38DPyc67"
      },
      "execution_count": null,
      "outputs": []
    },
    {
      "cell_type": "code",
      "source": [
        "# TODO: snap and collect anchor images"
      ],
      "metadata": {
        "id": "t1DxsYiM0Hn7"
      },
      "execution_count": null,
      "outputs": []
    },
    {
      "cell_type": "markdown",
      "source": [
        "#Collect Negative Images"
      ],
      "metadata": {
        "id": "ia4tUZTCQjl4"
      }
    },
    {
      "cell_type": "code",
      "source": [
        "!wget -O wildImages.tar http://vis-www.cs.umass.edu/lfw/lfw.tgz"
      ],
      "metadata": {
        "id": "_jGoz1IXorPj",
        "colab": {
          "base_uri": "https://localhost:8080/"
        },
        "outputId": "626a525b-2fbc-4def-b3ed-dad9e1dc9cb6"
      },
      "execution_count": null,
      "outputs": [
        {
          "output_type": "stream",
          "name": "stdout",
          "text": [
            "--2022-09-18 12:31:20--  http://vis-www.cs.umass.edu/lfw/lfw.tgz\n",
            "Resolving vis-www.cs.umass.edu (vis-www.cs.umass.edu)... 128.119.244.95\n",
            "Connecting to vis-www.cs.umass.edu (vis-www.cs.umass.edu)|128.119.244.95|:80... connected.\n",
            "HTTP request sent, awaiting response... 200 OK\n",
            "Length: 180566744 (172M) [application/x-gzip]\n",
            "Saving to: ‘wildImages.tar’\n",
            "\n",
            "wildImages.tar      100%[===================>] 172.20M  15.2MB/s    in 13s     \n",
            "\n",
            "2022-09-18 12:31:33 (13.5 MB/s) - ‘wildImages.tar’ saved [180566744/180566744]\n",
            "\n"
          ]
        }
      ]
    },
    {
      "cell_type": "markdown",
      "source": [
        "###Untar Labelled Faces in the wild Dataset\n",
        "\n"
      ],
      "metadata": {
        "id": "P-9fwnZBF-MT"
      }
    },
    {
      "cell_type": "code",
      "source": [
        "!tar -xzf wildImages.tar"
      ],
      "metadata": {
        "id": "6BxCyZaMmm5N"
      },
      "execution_count": null,
      "outputs": []
    },
    {
      "cell_type": "code",
      "source": [
        "# move ifw images to the negative folder image directory\n",
        "\n",
        "for directory in os.listdir('lfw'):\n",
        "  for file in os.listdir(os.path.join('lfw', directory)):\n",
        "    old_path = os.path.join('lfw', directory, file)\n",
        "    new_path = os.path.join(NEG_PATH, file)\n",
        "    os.replace(old_path, new_path)"
      ],
      "metadata": {
        "id": "IXbP-9PbnBwt"
      },
      "execution_count": null,
      "outputs": []
    },
    {
      "cell_type": "markdown",
      "source": [],
      "metadata": {
        "id": "-Y4lrPAUGNMQ"
      }
    }
  ]
}